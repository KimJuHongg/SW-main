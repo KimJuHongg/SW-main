{
 "cells": [
  {
   "cell_type": "code",
   "execution_count": 1,
   "id": "e665d066",
   "metadata": {},
   "outputs": [],
   "source": [
    "import numpy as np\n",
    "import matplotlib.pyplot as plt"
   ]
  },
  {
   "cell_type": "code",
   "execution_count": 2,
   "id": "813d9521",
   "metadata": {},
   "outputs": [],
   "source": [
    "X = np.arange(-1.0, 1.0, 0.1)\n",
    "Y = np.arange(-1.0, 1.0, 0.1)\n"
   ]
  },
  {
   "cell_type": "code",
   "execution_count": 3,
   "id": "19e48ed1",
   "metadata": {},
   "outputs": [],
   "source": [
    "w_im = np.array( [ [1.0, 2.0], [2.0, 3.0] ] )\n",
    "w_mo = np.array( [ [-1.0, 1.0], [1.0, -1.0] ] )\n",
    "\n",
    "b_im = np.array([0.3, -0.3])\n",
    "b_mo = np.array([0.4, 0.1])"
   ]
  },
  {
   "cell_type": "code",
   "execution_count": null,
   "id": "b11c7247",
   "metadata": {},
   "outputs": [],
   "source": []
  }
 ],
 "metadata": {
  "kernelspec": {
   "display_name": "Python 3 (ipykernel)",
   "language": "python",
   "name": "python3"
  },
  "language_info": {
   "codemirror_mode": {
    "name": "ipython",
    "version": 3
   },
   "file_extension": ".py",
   "mimetype": "text/x-python",
   "name": "python",
   "nbconvert_exporter": "python",
   "pygments_lexer": "ipython3",
   "version": "3.11.4"
  }
 },
 "nbformat": 4,
 "nbformat_minor": 5
}
