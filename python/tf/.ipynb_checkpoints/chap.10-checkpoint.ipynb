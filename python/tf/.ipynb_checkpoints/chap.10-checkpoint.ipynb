{
 "cells": [
  {
   "cell_type": "code",
   "execution_count": 3,
   "id": "cc74aa98",
   "metadata": {},
   "outputs": [],
   "source": [
    "from tensorflow.keras import models, layers\n",
    "import numpy as np"
   ]
  },
  {
   "cell_type": "code",
   "execution_count": 4,
   "id": "4e31cc9f",
   "metadata": {},
   "outputs": [
    {
     "data": {
      "text/plain": [
       "array([[ 1.  ,  2.88,  2.16, ...,  0.  , 60.  ,  0.  ],\n",
       "       [ 2.  ,  3.4 ,  1.88, ...,  0.  , 51.  ,  0.  ],\n",
       "       [ 2.  ,  2.76,  2.08, ...,  0.  , 59.  ,  0.  ],\n",
       "       ...,\n",
       "       [ 2.  ,  3.04,  2.08, ...,  0.  , 52.  ,  0.  ],\n",
       "       [ 2.  ,  1.96,  1.68, ...,  0.  , 79.  ,  0.  ],\n",
       "       [ 2.  ,  4.72,  3.56, ...,  0.  , 51.  ,  0.  ]])"
      ]
     },
     "execution_count": 4,
     "metadata": {},
     "output_type": "execute_result"
    }
   ],
   "source": [
    "data_set = np.loadtxt('data/ThoraricSurgery3.csv', delimiter=',')\n",
    "data_set"
   ]
  },
  {
   "cell_type": "code",
   "execution_count": 5,
   "id": "25949311",
   "metadata": {},
   "outputs": [],
   "source": [
    "X = data_set[:, :16]\n",
    "y = data_set[:, 16] "
   ]
  },
  {
   "cell_type": "code",
   "execution_count": 6,
   "id": "3ca398f4",
   "metadata": {},
   "outputs": [
    {
     "data": {
      "text/plain": [
       "array([[ 1.  ,  2.88,  2.16,  1.  ,  0.  ,  0.  ,  0.  ,  1.  ,  1.  ,\n",
       "         3.  ,  0.  ,  0.  ,  0.  ,  1.  ,  0.  , 60.  ],\n",
       "       [ 2.  ,  3.4 ,  1.88,  0.  ,  0.  ,  0.  ,  0.  ,  0.  ,  0.  ,\n",
       "         1.  ,  0.  ,  0.  ,  0.  ,  1.  ,  0.  , 51.  ],\n",
       "       [ 2.  ,  2.76,  2.08,  1.  ,  0.  ,  0.  ,  0.  ,  1.  ,  0.  ,\n",
       "         0.  ,  0.  ,  0.  ,  0.  ,  1.  ,  0.  , 59.  ]])"
      ]
     },
     "execution_count": 6,
     "metadata": {},
     "output_type": "execute_result"
    }
   ],
   "source": [
    "X[:3]"
   ]
  },
  {
   "cell_type": "code",
   "execution_count": 7,
   "id": "58e7dbf0",
   "metadata": {},
   "outputs": [
    {
     "data": {
      "text/plain": [
       "array([0., 0., 0.])"
      ]
     },
     "execution_count": 7,
     "metadata": {},
     "output_type": "execute_result"
    }
   ],
   "source": [
    "y[:3]"
   ]
  },
  {
   "cell_type": "code",
   "execution_count": 9,
   "id": "78c33d86",
   "metadata": {},
   "outputs": [],
   "source": [
    "model = models.Sequential()\n",
    "model.add(layers.Dense(30, input_dim=16, activation='relu'))\n",
    "model.add(layers.Dense(1, activation='sigmoid'))"
   ]
  },
  {
   "cell_type": "raw",
   "id": "a9eabb80",
   "metadata": {},
   "source": [
    "# 1. sequential(), 2. sub-classing"
   ]
  },
  {
   "cell_type": "code",
   "execution_count": 11,
   "id": "650acc81",
   "metadata": {},
   "outputs": [
    {
     "name": "stdout",
     "output_type": "stream",
     "text": [
      "Model: \"sequential_1\"\n",
      "_________________________________________________________________\n",
      " Layer (type)                Output Shape              Param #   \n",
      "=================================================================\n",
      " dense_1 (Dense)             (None, 30)                510       \n",
      "                                                                 \n",
      " dense_2 (Dense)             (None, 1)                 31        \n",
      "                                                                 \n",
      "=================================================================\n",
      "Total params: 541\n",
      "Trainable params: 541\n",
      "Non-trainable params: 0\n",
      "_________________________________________________________________\n"
     ]
    }
   ],
   "source": [
    "model.summary()"
   ]
  },
  {
   "cell_type": "code",
   "execution_count": 12,
   "id": "7ee700e7",
   "metadata": {},
   "outputs": [],
   "source": [
    "model.compile(loss='binary_crossentropy', optimizer='adam',\n",
    "             metrics=['accuracy'])"
   ]
  },
  {
   "cell_type": "code",
   "execution_count": 14,
   "id": "ff934155",
   "metadata": {},
   "outputs": [
    {
     "name": "stdout",
     "output_type": "stream",
     "text": [
      "Epoch 1/5\n",
      "30/30 [==============================] - 1s 1ms/step - loss: 0.7568 - accuracy: 0.8298\n",
      "Epoch 2/5\n",
      "30/30 [==============================] - 0s 1ms/step - loss: 0.4408 - accuracy: 0.8426\n",
      "Epoch 3/5\n",
      "30/30 [==============================] - 0s 1ms/step - loss: 0.4434 - accuracy: 0.8489\n",
      "Epoch 4/5\n",
      "30/30 [==============================] - 0s 1ms/step - loss: 0.4385 - accuracy: 0.8404\n",
      "Epoch 5/5\n",
      "30/30 [==============================] - 0s 1ms/step - loss: 0.4143 - accuracy: 0.8426\n"
     ]
    }
   ],
   "source": [
    "h = model.fit(X, y, epochs=5, batch_size=16)\n"
   ]
  },
  {
   "cell_type": "code",
   "execution_count": null,
   "id": "173bdb0b",
   "metadata": {},
   "outputs": [],
   "source": []
  }
 ],
 "metadata": {
  "kernelspec": {
   "display_name": "Python 3 (ipykernel)",
   "language": "python",
   "name": "python3"
  },
  "language_info": {
   "codemirror_mode": {
    "name": "ipython",
    "version": 3
   },
   "file_extension": ".py",
   "mimetype": "text/x-python",
   "name": "python",
   "nbconvert_exporter": "python",
   "pygments_lexer": "ipython3",
   "version": "3.9.17"
  }
 },
 "nbformat": 4,
 "nbformat_minor": 5
}
