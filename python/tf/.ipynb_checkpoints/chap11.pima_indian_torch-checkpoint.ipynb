{
 "cells": [
  {
   "cell_type": "code",
   "execution_count": 2,
   "id": "4c631574",
   "metadata": {},
   "outputs": [],
   "source": [
    "import torch\n",
    "import numpy as np\n",
    "import torch.nn as nn\n",
    "import torch.optim as optim\n",
    "from torch.utils.data import DataLoader, TensorDataset"
   ]
  },
  {
   "cell_type": "code",
   "execution_count": 3,
   "id": "e35fde53",
   "metadata": {},
   "outputs": [],
   "source": [
    "device = (torch.device('cuda') if torch.cuda.is_available() \n",
    "          else torch.device('cpu'))\n",
    "\n",
    "dataset_numpy = np.loadtxt('data/pima-indians-diabetes3.csv',\n",
    "                          delimiter=',', skiprows=1)\n",
    "dataset = torch.from_numpy(dataset_numpy)"
   ]
  },
  {
   "cell_type": "code",
   "execution_count": 4,
   "id": "3ad2ab7d",
   "metadata": {},
   "outputs": [],
   "source": [
    "X = dataset[:, :-1]\n",
    "y = dataset[:, -1]"
   ]
  },
  {
   "cell_type": "code",
   "execution_count": 5,
   "id": "e7097be9",
   "metadata": {},
   "outputs": [
    {
     "data": {
      "text/plain": [
       "torch.Size([768, 8])"
      ]
     },
     "execution_count": 5,
     "metadata": {},
     "output_type": "execute_result"
    }
   ],
   "source": [
    "X.shape"
   ]
  },
  {
   "cell_type": "code",
   "execution_count": 6,
   "id": "47929c22",
   "metadata": {},
   "outputs": [
    {
     "data": {
      "text/plain": [
       "torch.Size([768])"
      ]
     },
     "execution_count": 6,
     "metadata": {},
     "output_type": "execute_result"
    }
   ],
   "source": [
    "y.shape"
   ]
  },
  {
   "cell_type": "code",
   "execution_count": 18,
   "id": "9e419e69",
   "metadata": {},
   "outputs": [],
   "source": [
    "class Pima(nn.Module):\n",
    "    def __init__(self):\n",
    "        super(Pima, self).__init__()\n",
    "        self.hidden_linear1 = nn.Linear(8, 12)\n",
    "        self.activation = nn.ReLU()\n",
    "        self.hidden_linear2 = nn.Linear(12, 8)\n",
    "        self.hidden_linear3 = nn.Linear(8, 1)\n",
    "        self.output_activation = nn.Sigmoid()\n",
    "        \n",
    "    def forward(self, x):\n",
    "        x = self.hidden_linear1(x)\n",
    "        x = self.activation(x)\n",
    "        x = self.hidden_linear2(x)\n",
    "        x = self.activation(x)\n",
    "        x = self.hidden_linear3(x)\n",
    "        x = self.output_activation(x)\n",
    "        \n",
    "        return x\n",
    "    \n",
    "\n",
    "    def predict(self, x):\n",
    "        pred = self.forward(x)\n",
    "        if pred >= 0.5:\n",
    "            return 1\n",
    "        else:\n",
    "            return 0"
   ]
  },
  {
   "cell_type": "code",
   "execution_count": 19,
   "id": "922e8276",
   "metadata": {},
   "outputs": [
    {
     "data": {
      "text/plain": [
       "Pima(\n",
       "  (hidden_linear1): Linear(in_features=8, out_features=12, bias=True)\n",
       "  (activation): ReLU()\n",
       "  (hidden_linear2): Linear(in_features=12, out_features=8, bias=True)\n",
       "  (hidden_linear3): Linear(in_features=8, out_features=1, bias=True)\n",
       "  (output_activation): Sigmoid()\n",
       ")"
      ]
     },
     "execution_count": 19,
     "metadata": {},
     "output_type": "execute_result"
    }
   ],
   "source": [
    "model = Pima().to(device)\n",
    "model"
   ]
  },
  {
   "cell_type": "code",
   "execution_count": 20,
   "id": "0f6e0962",
   "metadata": {},
   "outputs": [],
   "source": [
    "def count_parameters(model):\n",
    "    total_param = 0\n",
    "    for name, param in model.named_parameters():\n",
    "        if param.requires_grad:\n",
    "            num_param = np.prod(param.size())\n",
    "            if param.dim() > 1:\n",
    "                print(name, ':', ' x '.join(str(x) for x in list(param.size())[::-1]), '=', num_param)\n",
    "            else:\n",
    "                print(name, ':', num_param)\n",
    "                print('-' * 40)\n",
    "            total_param += num_param\n",
    "    print('total:', total_param)"
   ]
  },
  {
   "cell_type": "code",
   "execution_count": 21,
   "id": "bfb5ef72",
   "metadata": {},
   "outputs": [
    {
     "name": "stdout",
     "output_type": "stream",
     "text": [
      "hidden_linear1.weight : 8 x 12 = 96\n",
      "hidden_linear1.bias : 12\n",
      "----------------------------------------\n",
      "hidden_linear2.weight : 12 x 8 = 96\n",
      "hidden_linear2.bias : 8\n",
      "----------------------------------------\n",
      "hidden_linear3.weight : 8 x 1 = 8\n",
      "hidden_linear3.bias : 1\n",
      "----------------------------------------\n",
      "total: 221\n"
     ]
    }
   ],
   "source": [
    "count_parameters(model)"
   ]
  },
  {
   "cell_type": "code",
   "execution_count": 27,
   "id": "4d740fce",
   "metadata": {},
   "outputs": [],
   "source": [
    "ds = TensorDataset(X, y)\n",
    "dataloader = DataLoader(ds, batch_size=5)\n",
    "optimizer = optim.Adam(model.parameters())\n",
    "loss_fn = nn.BCELoss()\n",
    "n_epochs = 100"
   ]
  },
  {
   "cell_type": "code",
   "execution_count": 29,
   "id": "417064a5",
   "metadata": {},
   "outputs": [
    {
     "name": "stdout",
     "output_type": "stream",
     "text": [
      "Epoch: 0, Loss: 0.161032\n",
      "Epoch: 1, Loss: 0.149732\n",
      "Epoch: 2, Loss: 0.146154\n",
      "Epoch: 3, Loss: 0.149001\n",
      "Epoch: 4, Loss: 0.133358\n",
      "Epoch: 5, Loss: 0.142594\n",
      "Epoch: 6, Loss: 0.147505\n",
      "Epoch: 7, Loss: 0.153355\n",
      "Epoch: 8, Loss: 0.145127\n",
      "Epoch: 9, Loss: 0.125156\n",
      "Epoch: 10, Loss: 0.135528\n",
      "Epoch: 11, Loss: 0.138419\n",
      "Epoch: 12, Loss: 0.131639\n",
      "Epoch: 13, Loss: 0.128353\n",
      "Epoch: 14, Loss: 0.136966\n",
      "Epoch: 15, Loss: 0.124806\n",
      "Epoch: 16, Loss: 0.134286\n",
      "Epoch: 17, Loss: 0.132680\n",
      "Epoch: 18, Loss: 0.144878\n",
      "Epoch: 19, Loss: 0.141858\n",
      "Epoch: 20, Loss: 0.142837\n",
      "Epoch: 21, Loss: 0.140559\n",
      "Epoch: 22, Loss: 0.146897\n",
      "Epoch: 23, Loss: 0.137140\n",
      "Epoch: 24, Loss: 0.128971\n",
      "Epoch: 25, Loss: 0.126947\n",
      "Epoch: 26, Loss: 0.134708\n",
      "Epoch: 27, Loss: 0.138601\n",
      "Epoch: 28, Loss: 0.129166\n",
      "Epoch: 29, Loss: 0.141433\n",
      "Epoch: 30, Loss: 0.139436\n",
      "Epoch: 31, Loss: 0.139833\n",
      "Epoch: 32, Loss: 0.125769\n",
      "Epoch: 33, Loss: 0.117258\n",
      "Epoch: 34, Loss: 0.127769\n",
      "Epoch: 35, Loss: 0.146239\n",
      "Epoch: 36, Loss: 0.145986\n",
      "Epoch: 37, Loss: 0.145110\n",
      "Epoch: 38, Loss: 0.143840\n",
      "Epoch: 39, Loss: 0.134941\n",
      "Epoch: 40, Loss: 0.111383\n",
      "Epoch: 41, Loss: 0.132856\n",
      "Epoch: 42, Loss: 0.120505\n",
      "Epoch: 43, Loss: 0.153985\n",
      "Epoch: 44, Loss: 0.130512\n",
      "Epoch: 45, Loss: 0.147749\n",
      "Epoch: 46, Loss: 0.154417\n",
      "Epoch: 47, Loss: 0.123756\n",
      "Epoch: 48, Loss: 0.144589\n",
      "Epoch: 49, Loss: 0.128899\n",
      "Epoch: 50, Loss: 0.132877\n",
      "Epoch: 51, Loss: 0.137989\n",
      "Epoch: 52, Loss: 0.122344\n",
      "Epoch: 53, Loss: 0.129870\n",
      "Epoch: 54, Loss: 0.105376\n",
      "Epoch: 55, Loss: 0.114994\n",
      "Epoch: 56, Loss: 0.117618\n",
      "Epoch: 57, Loss: 0.157123\n",
      "Epoch: 58, Loss: 0.140630\n",
      "Epoch: 59, Loss: 0.114137\n",
      "Epoch: 60, Loss: 0.116059\n",
      "Epoch: 61, Loss: 0.123257\n",
      "Epoch: 62, Loss: 0.132638\n",
      "Epoch: 63, Loss: 0.123346\n",
      "Epoch: 64, Loss: 0.137015\n",
      "Epoch: 65, Loss: 0.175949\n",
      "Epoch: 66, Loss: 0.121212\n",
      "Epoch: 67, Loss: 0.138564\n",
      "Epoch: 68, Loss: 0.123088\n",
      "Epoch: 69, Loss: 0.120292\n",
      "Epoch: 70, Loss: 0.138524\n",
      "Epoch: 71, Loss: 0.109044\n",
      "Epoch: 72, Loss: 0.106378\n",
      "Epoch: 73, Loss: 0.116108\n",
      "Epoch: 74, Loss: 0.130298\n",
      "Epoch: 75, Loss: 0.121002\n",
      "Epoch: 76, Loss: 0.113468\n",
      "Epoch: 77, Loss: 0.113380\n",
      "Epoch: 78, Loss: 0.133500\n",
      "Epoch: 79, Loss: 0.110977\n",
      "Epoch: 80, Loss: 0.119094\n",
      "Epoch: 81, Loss: 0.114760\n",
      "Epoch: 82, Loss: 0.132280\n",
      "Epoch: 83, Loss: 0.125565\n",
      "Epoch: 84, Loss: 0.111263\n",
      "Epoch: 85, Loss: 0.113026\n",
      "Epoch: 86, Loss: 0.106800\n",
      "Epoch: 87, Loss: 0.109560\n",
      "Epoch: 88, Loss: 0.145392\n",
      "Epoch: 89, Loss: 0.119117\n",
      "Epoch: 90, Loss: 0.112437\n",
      "Epoch: 91, Loss: 0.108882\n",
      "Epoch: 92, Loss: 0.109484\n",
      "Epoch: 93, Loss: 0.108354\n",
      "Epoch: 94, Loss: 0.136040\n",
      "Epoch: 95, Loss: 0.112619\n",
      "Epoch: 96, Loss: 0.115801\n",
      "Epoch: 97, Loss: 0.105032\n",
      "Epoch: 98, Loss: 0.106861\n",
      "Epoch: 99, Loss: 0.106888\n"
     ]
    }
   ],
   "source": [
    "for epoch in range(n_epochs):\n",
    "    for data, label in dataloader:\n",
    "        data = data.type(torch.FloatTensor)\n",
    "        out = model(data.to(device))\n",
    "        loss = loss_fn(out, label.type(torch.FloatTensor).unsqueeze(1).to(device))\n",
    "        \n",
    "        optimizer.zero_grad()\n",
    "        loss.backward()\n",
    "        optimizer.step()\n",
    "        \n",
    "    print(\"Epoch: %d, Loss: %f\" % (epoch, float(loss)))"
   ]
  },
  {
   "cell_type": "code",
   "execution_count": 35,
   "id": "ca68c1e9",
   "metadata": {},
   "outputs": [
    {
     "name": "stdout",
     "output_type": "stream",
     "text": [
      "Accuracy: 0.824219\n"
     ]
    }
   ],
   "source": [
    "train_loader = DataLoader(ds)\n",
    "correct = 0\n",
    "\n",
    "with torch.no_grad():\n",
    "    for data, label in train_loader:\n",
    "        predicted = model.predict(data.type(torch.FloatTensor).to(device))\n",
    "        target = int(label[0])\n",
    "        correct += 1 if predicted == target else 0\n",
    "        \n",
    "print(\"Accuracy: %f\" % (correct / len(train_loader.dataset)))"
   ]
  }
 ],
 "metadata": {
  "kernelspec": {
   "display_name": "Python 3 (ipykernel)",
   "language": "python",
   "name": "python3"
  },
  "language_info": {
   "codemirror_mode": {
    "name": "ipython",
    "version": 3
   },
   "file_extension": ".py",
   "mimetype": "text/x-python",
   "name": "python",
   "nbconvert_exporter": "python",
   "pygments_lexer": "ipython3",
   "version": "3.9.17"
  }
 },
 "nbformat": 4,
 "nbformat_minor": 5
}
